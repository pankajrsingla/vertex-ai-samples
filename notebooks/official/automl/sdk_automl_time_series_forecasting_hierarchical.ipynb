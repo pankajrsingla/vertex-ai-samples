{
 "cells": [
  {
   "cell_type": "code",
   "execution_count": 1,
   "id": "4713fef2",
   "metadata": {
    "execution": {
     "iopub.execute_input": "2022-06-14T20:41:08.991859Z",
     "iopub.status.busy": "2022-06-14T20:41:08.991140Z",
     "iopub.status.idle": "2022-06-14T20:41:08.994347Z",
     "shell.execute_reply": "2022-06-14T20:41:08.995007Z"
    },
    "id": "copyright",
    "papermill": {
     "duration": 0.040742,
     "end_time": "2022-06-14T20:41:08.995266",
     "exception": false,
     "start_time": "2022-06-14T20:41:08.954524",
     "status": "completed"
    },
    "tags": []
   },
   "outputs": [],
   "source": [
    "# Copyright 2022 Google LLC\n",
    "#\n",
    "# Licensed under the Apache License, Version 2.0 (the \"License\");\n",
    "# you may not use this file except in compliance with the License.\n",
    "# You may obtain a copy of the License at\n",
    "#\n",
    "#     https://www.apache.org/licenses/LICENSE-2.0\n",
    "#\n",
    "# Unless required by applicable law or agreed to in writing, software\n",
    "# distributed under the License is distributed on an \"AS IS\" BASIS,\n",
    "# WITHOUT WARRANTIES OR CONDITIONS OF ANY KIND, either express or implied.\n",
    "# See the License for the specific language governing permissions and\n",
    "# limitations under the License."
   ]
  },
  {
   "cell_type": "markdown",
   "id": "71ce9dba",
   "metadata": {
    "id": "title",
    "papermill": {
     "duration": 0.023024,
     "end_time": "2022-06-14T20:41:09.043089",
     "exception": false,
     "start_time": "2022-06-14T20:41:09.020065",
     "status": "completed"
    },
    "tags": []
   },
   "source": [
    "# Vertex AI SDK for Python: AutoML training tabular regression model for batch prediction using BigQuery\n",
    "\n",
    "<table align=\"left\">\n",
    "  <td>\n",
    "    <a href=\"https://colab.research.google.com/github/GoogleCloudPlatform/vertex-ai-samples/blob/main/notebooks/official/automl/sdk_automl_tabular_regression_batch_bq.ipynb\">\n",
    "      <img src=\"https://cloud.google.com/ml-engine/images/colab-logo-32px.png\" alt=\"Colab logo\"> Run in Colab\n",
    "    </a>\n",
    "  </td>\n",
    "  <td>\n",
    "    <a href=\"https://github.com/GoogleCloudPlatform/vertex-ai-samples/blob/main/notebooks/official/automl/sdk_automl_tabular_regression_batch_bq.ipynb\">\n",
    "      <img src=\"https://cloud.google.com/ml-engine/images/github-logo-32px.png\" alt=\"GitHub logo\">\n",
    "      View on GitHub\n",
    "    </a>\n",
    "  </td>\n",
    "  <td>\n",
    "    <a href=\"https://console.cloud.google.com/vertex-ai/workbench/deploy-notebook?download_url=https://github.com/GoogleCloudPlatform/vertex-ai-samples/blob/main/notebooks/official/automl/sdk_automl_tabular_regression_batch_bq.ipynb\">\n",
    "      <img src=\"https://lh3.googleusercontent.com/UiNooY4LUgW_oTvpsNhPpQzsstV5W8F7rYgxgGBD85cWJoLmrOzhVs_ksK_vgx40SHs7jCqkTkCk=e14-rj-sc0xffffff-h130-w32\" alt=\"Vertex AI logo\">\n",
    "      Open in Vertex AI Workbench\n",
    "    </a>\n",
    "  </td>                                                                                               \n",
    "</table>"
   ]
  },
  {
   "cell_type": "markdown",
   "id": "495f20d6",
   "metadata": {
    "id": "overview:automl",
    "papermill": {
     "duration": 0.022103,
     "end_time": "2022-06-14T20:41:09.087188",
     "exception": false,
     "start_time": "2022-06-14T20:41:09.065085",
     "status": "completed"
    },
    "tags": []
   },
   "source": [
    "## Overview\n",
    "\n",
    "\n",
    "This tutorial demonstrates how to use the Vertex AI SDK for Python to create tabular regression models and do batch prediction using a Google Cloud [AutoML](https://cloud.google.com/vertex-ai/docs/start/automl-users) model."
   ]
  },
  {
   "cell_type": "markdown",
   "id": "45c07df7",
   "metadata": {
    "id": "dataset:gsod,lrg",
    "papermill": {
     "duration": 0.020879,
     "end_time": "2022-06-14T20:41:09.129459",
     "exception": false,
     "start_time": "2022-06-14T20:41:09.108580",
     "status": "completed"
    },
    "tags": []
   },
   "source": [
    "### Dataset\n",
    "\n",
    "The dataset used for this tutorial is the [GSOD dataset](https://console.cloud.google.com/marketplace/product/noaa-public/gsod) from [BigQuery public datasets](https://cloud.google.com/bigquery/public-data). In this version of the dataset, you use the year, month, and day fields to predict the mean daily temperature (mean_temp)."
   ]
  },
  {
   "cell_type": "markdown",
   "id": "f0c70fa1",
   "metadata": {
    "id": "objective:automl,training,online_prediction",
    "papermill": {
     "duration": 0.024462,
     "end_time": "2022-06-14T20:41:09.175416",
     "exception": false,
     "start_time": "2022-06-14T20:41:09.150954",
     "status": "completed"
    },
    "tags": []
   },
   "source": [
    "### Objective\n",
    "\n",
    "In this tutorial, you create an AutoML tabular regression model and deploy it for batch prediction using the Vertex AI SDK for Python. You can alternatively create and deploy models using the `gcloud` command-line tool or batch using the Cloud Console.\n",
    "\n",
    "The steps performed include:\n",
    "\n",
    "- Create a Vertex AI `Dataset` resource.\n",
    "- Train the model.\n",
    "- View the model evaluation.\n",
    "- Deploy the `Model` resource to a serving `Endpoint` resource.\n",
    "- Make a prediction.\n",
    "- Undeploy the `Model`."
   ]
  },
  {
   "cell_type": "markdown",
   "id": "6e73f98b",
   "metadata": {
    "id": "costs",
    "papermill": {
     "duration": 0.021526,
     "end_time": "2022-06-14T20:41:09.218916",
     "exception": false,
     "start_time": "2022-06-14T20:41:09.197390",
     "status": "completed"
    },
    "tags": []
   },
   "source": [
    "### Costs\n",
    "\n",
    "This tutorial uses billable components of Google Cloud:\n",
    "\n",
    "* Vertex AI\n",
    "* Cloud Storage\n",
    "\n",
    "Learn about [Vertex AI\n",
    "pricing](https://cloud.google.com/vertex-ai/pricing) and [Cloud Storage\n",
    "pricing](https://cloud.google.com/storage/pricing), and use the [Pricing\n",
    "Calculator](https://cloud.google.com/products/calculator/)\n",
    "to generate a cost estimate based on your projected usage."
   ]
  },
  {
   "cell_type": "markdown",
   "id": "a4378898",
   "metadata": {
    "id": "setup_local",
    "papermill": {
     "duration": 0.022729,
     "end_time": "2022-06-14T20:41:09.262774",
     "exception": false,
     "start_time": "2022-06-14T20:41:09.240045",
     "status": "completed"
    },
    "tags": []
   },
   "source": [
    "### Set up your local development environment\n",
    "\n",
    "If you are using Colab or Vertex AI Workbench, your environment already meets all the requirements to run this notebook. You can skip this step.\n",
    "\n",
    "Otherwise, make sure your environment meets this notebook's requirements. You need the following:\n",
    "\n",
    "- The Cloud Storage SDK\n",
    "- Git\n",
    "- Python 3\n",
    "- virtualenv\n",
    "- Jupyter notebook running in a virtual environment with Python 3\n",
    "\n",
    "The Cloud Storage guide to [Setting up a Python development environment](https://cloud.google.com/python/setup) and the [Jupyter installation guide](https://jupyter.org/install) provide detailed instructions for meeting these requirements. The following steps provide a condensed set of instructions:\n",
    "\n",
    "1. [Install and initialize the SDK](https://cloud.google.com/sdk/docs/).\n",
    "\n",
    "2. [Install Python 3](https://cloud.google.com/python/setup#installing_python).\n",
    "\n",
    "3. [Install virtualenv](https://cloud.google.com/python/setup#installing_and_using_virtualenv) and create a virtual environment that uses Python 3.  Activate the virtual environment.\n",
    "\n",
    "4. To install Jupyter, run `pip3 install jupyter` on the command-line in a terminal shell.\n",
    "\n",
    "5. To launch Jupyter, run `jupyter notebook` on the command-line in a terminal shell.\n",
    "\n",
    "6. Open this notebook in the Jupyter Notebook Dashboard.\n"
   ]
  },
  {
   "cell_type": "markdown",
   "id": "c9ee89f5",
   "metadata": {
    "id": "install_aip:mbsdk",
    "papermill": {
     "duration": 0.022827,
     "end_time": "2022-06-14T20:41:09.306720",
     "exception": false,
     "start_time": "2022-06-14T20:41:09.283893",
     "status": "completed"
    },
    "tags": []
   },
   "source": [
    "## Installation\n",
    "\n",
    "Install the latest version of the Vertex AI SDK for Python."
   ]
  },
  {
   "cell_type": "code",
   "execution_count": 2,
   "id": "c3063fc2",
   "metadata": {
    "execution": {
     "iopub.execute_input": "2022-06-14T20:41:09.359055Z",
     "iopub.status.busy": "2022-06-14T20:41:09.358490Z",
     "iopub.status.idle": "2022-06-14T20:41:12.209314Z",
     "shell.execute_reply": "2022-06-14T20:41:12.210015Z"
    },
    "id": "install_aip:mbsdk",
    "papermill": {
     "duration": 2.881977,
     "end_time": "2022-06-14T20:41:12.210329",
     "exception": false,
     "start_time": "2022-06-14T20:41:09.328352",
     "status": "completed"
    },
    "tags": []
   },
   "outputs": [
    {
     "name": "stdout",
     "output_type": "stream",
     "text": [
      "Requirement already satisfied: google-cloud-aiplatform in ./env/lib/python3.8/site-packages (1.14.0)\r\n"
     ]
    },
    {
     "name": "stdout",
     "output_type": "stream",
     "text": [
      "Requirement already satisfied: google-cloud-storage<3.0.0dev,>=1.32.0 in ./env/lib/python3.8/site-packages (from google-cloud-aiplatform) (2.4.0)\r\n",
      "Requirement already satisfied: google-cloud-bigquery<3.0.0dev,>=1.15.0 in ./env/lib/python3.8/site-packages (from google-cloud-aiplatform) (2.24.0)\r\n",
      "Requirement already satisfied: proto-plus<2.0.0dev,>=1.15.0 in ./env/lib/python3.8/site-packages (from google-cloud-aiplatform) (1.19.0)\r\n",
      "Requirement already satisfied: packaging<22.0.0dev,>=14.3 in ./env/lib/python3.8/site-packages (from google-cloud-aiplatform) (21.0)\r\n",
      "Requirement already satisfied: protobuf<4.0.0dev,>=3.19.0 in ./env/lib/python3.8/site-packages (from google-cloud-aiplatform) (3.20.1)\r\n",
      "Requirement already satisfied: google-cloud-resource-manager<3.0.0dev,>=1.3.3 in ./env/lib/python3.8/site-packages (from google-cloud-aiplatform) (1.4.1)\r\n",
      "Requirement already satisfied: google-api-core[grpc]!=2.0.*,!=2.1.*,!=2.2.*,!=2.3.0,<3.0.0dev,>=1.31.5 in ./env/lib/python3.8/site-packages (from google-cloud-aiplatform) (2.7.2)\r\n"
     ]
    },
    {
     "name": "stdout",
     "output_type": "stream",
     "text": [
      "Requirement already satisfied: google-auth<3.0dev,>=1.25.0 in ./env/lib/python3.8/site-packages (from google-api-core[grpc]!=2.0.*,!=2.1.*,!=2.2.*,!=2.3.0,<3.0.0dev,>=1.31.5->google-cloud-aiplatform) (1.35.0)\r\n",
      "Requirement already satisfied: requests<3.0.0dev,>=2.18.0 in ./env/lib/python3.8/site-packages (from google-api-core[grpc]!=2.0.*,!=2.1.*,!=2.2.*,!=2.3.0,<3.0.0dev,>=1.31.5->google-cloud-aiplatform) (2.26.0)\r\n",
      "Requirement already satisfied: googleapis-common-protos<2.0dev,>=1.52.0 in ./env/lib/python3.8/site-packages (from google-api-core[grpc]!=2.0.*,!=2.1.*,!=2.2.*,!=2.3.0,<3.0.0dev,>=1.31.5->google-cloud-aiplatform) (1.56.0)\r\n",
      "Requirement already satisfied: grpcio<2.0dev,>=1.33.2 in ./env/lib/python3.8/site-packages (from google-api-core[grpc]!=2.0.*,!=2.1.*,!=2.2.*,!=2.3.0,<3.0.0dev,>=1.31.5->google-cloud-aiplatform) (1.44.0)\r\n",
      "Requirement already satisfied: grpcio-status<2.0dev,>=1.33.2 in ./env/lib/python3.8/site-packages (from google-api-core[grpc]!=2.0.*,!=2.1.*,!=2.2.*,!=2.3.0,<3.0.0dev,>=1.31.5->google-cloud-aiplatform) (1.44.0)\r\n",
      "Requirement already satisfied: setuptools>=40.3.0 in ./env/lib/python3.8/site-packages (from google-auth<3.0dev,>=1.25.0->google-api-core[grpc]!=2.0.*,!=2.1.*,!=2.2.*,!=2.3.0,<3.0.0dev,>=1.31.5->google-cloud-aiplatform) (57.4.0)\r\n",
      "Requirement already satisfied: cachetools<5.0,>=2.0.0 in ./env/lib/python3.8/site-packages (from google-auth<3.0dev,>=1.25.0->google-api-core[grpc]!=2.0.*,!=2.1.*,!=2.2.*,!=2.3.0,<3.0.0dev,>=1.31.5->google-cloud-aiplatform) (4.2.2)\r\n",
      "Requirement already satisfied: pyasn1-modules>=0.2.1 in ./env/lib/python3.8/site-packages (from google-auth<3.0dev,>=1.25.0->google-api-core[grpc]!=2.0.*,!=2.1.*,!=2.2.*,!=2.3.0,<3.0.0dev,>=1.31.5->google-cloud-aiplatform) (0.2.8)\r\n",
      "Requirement already satisfied: six>=1.9.0 in ./env/lib/python3.8/site-packages (from google-auth<3.0dev,>=1.25.0->google-api-core[grpc]!=2.0.*,!=2.1.*,!=2.2.*,!=2.3.0,<3.0.0dev,>=1.31.5->google-cloud-aiplatform) (1.15.0)\r\n",
      "Requirement already satisfied: rsa<5,>=3.1.4 in ./env/lib/python3.8/site-packages (from google-auth<3.0dev,>=1.25.0->google-api-core[grpc]!=2.0.*,!=2.1.*,!=2.2.*,!=2.3.0,<3.0.0dev,>=1.31.5->google-cloud-aiplatform) (4.7.2)\r\n"
     ]
    },
    {
     "name": "stdout",
     "output_type": "stream",
     "text": [
      "Requirement already satisfied: google-cloud-core<3.0.0dev,>=1.4.1 in ./env/lib/python3.8/site-packages (from google-cloud-bigquery<3.0.0dev,>=1.15.0->google-cloud-aiplatform) (2.3.0)\r\n",
      "Requirement already satisfied: google-resumable-media<3.0dev,>=0.6.0 in ./env/lib/python3.8/site-packages (from google-cloud-bigquery<3.0.0dev,>=1.15.0->google-cloud-aiplatform) (2.3.3)\r\n",
      "Requirement already satisfied: grpc-google-iam-v1<0.13dev,>=0.12.3 in ./env/lib/python3.8/site-packages (from google-cloud-resource-manager<3.0.0dev,>=1.3.3->google-cloud-aiplatform) (0.12.4)\r\n"
     ]
    },
    {
     "name": "stdout",
     "output_type": "stream",
     "text": [
      "Requirement already satisfied: google-crc32c<2.0dev,>=1.0 in ./env/lib/python3.8/site-packages (from google-resumable-media<3.0dev,>=0.6.0->google-cloud-bigquery<3.0.0dev,>=1.15.0->google-cloud-aiplatform) (1.1.2)\r\n",
      "Requirement already satisfied: cffi>=1.0.0 in ./env/lib/python3.8/site-packages (from google-crc32c<2.0dev,>=1.0->google-resumable-media<3.0dev,>=0.6.0->google-cloud-bigquery<3.0.0dev,>=1.15.0->google-cloud-aiplatform) (1.14.6)\r\n",
      "Requirement already satisfied: pycparser in ./env/lib/python3.8/site-packages (from cffi>=1.0.0->google-crc32c<2.0dev,>=1.0->google-resumable-media<3.0dev,>=0.6.0->google-cloud-bigquery<3.0.0dev,>=1.15.0->google-cloud-aiplatform) (2.20)\r\n"
     ]
    },
    {
     "name": "stdout",
     "output_type": "stream",
     "text": [
      "Requirement already satisfied: pyparsing>=2.0.2 in ./env/lib/python3.8/site-packages (from packaging<22.0.0dev,>=14.3->google-cloud-aiplatform) (2.4.7)\r\n",
      "Requirement already satisfied: pyasn1<0.5.0,>=0.4.6 in ./env/lib/python3.8/site-packages (from pyasn1-modules>=0.2.1->google-auth<3.0dev,>=1.25.0->google-api-core[grpc]!=2.0.*,!=2.1.*,!=2.2.*,!=2.3.0,<3.0.0dev,>=1.31.5->google-cloud-aiplatform) (0.4.8)\r\n"
     ]
    },
    {
     "name": "stdout",
     "output_type": "stream",
     "text": [
      "Requirement already satisfied: urllib3<1.27,>=1.21.1 in ./env/lib/python3.8/site-packages (from requests<3.0.0dev,>=2.18.0->google-api-core[grpc]!=2.0.*,!=2.1.*,!=2.2.*,!=2.3.0,<3.0.0dev,>=1.31.5->google-cloud-aiplatform) (1.26.6)\r\n",
      "Requirement already satisfied: charset-normalizer~=2.0.0 in ./env/lib/python3.8/site-packages (from requests<3.0.0dev,>=2.18.0->google-api-core[grpc]!=2.0.*,!=2.1.*,!=2.2.*,!=2.3.0,<3.0.0dev,>=1.31.5->google-cloud-aiplatform) (2.0.4)\r\n",
      "Requirement already satisfied: certifi>=2017.4.17 in ./env/lib/python3.8/site-packages (from requests<3.0.0dev,>=2.18.0->google-api-core[grpc]!=2.0.*,!=2.1.*,!=2.2.*,!=2.3.0,<3.0.0dev,>=1.31.5->google-cloud-aiplatform) (2021.5.30)\r\n",
      "Requirement already satisfied: idna<4,>=2.5 in ./env/lib/python3.8/site-packages (from requests<3.0.0dev,>=2.18.0->google-api-core[grpc]!=2.0.*,!=2.1.*,!=2.2.*,!=2.3.0,<3.0.0dev,>=1.31.5->google-cloud-aiplatform) (3.2)\r\n"
     ]
    },
    {
     "name": "stdout",
     "output_type": "stream",
     "text": [
      "\u001b[33mWARNING: You are using pip version 21.1.3; however, version 22.1.2 is available.\r\n",
      "You should consider upgrading via the '/Users/ivanmkc/Documents/code/vertex-ai-samples/env/bin/python -m pip install --upgrade pip' command.\u001b[0m\r\n"
     ]
    }
   ],
   "source": [
    "import os\n",
    "\n",
    "# Google Cloud Notebook\n",
    "if os.path.exists(\"/opt/deeplearning/metadata/env_version\"):\n",
    "    USER_FLAG = \"--user\"\n",
    "else:\n",
    "    USER_FLAG = \"\"\n",
    "\n",
    "! pip3 install --upgrade google-cloud-aiplatform $USER_FLAG"
   ]
  },
  {
   "cell_type": "markdown",
   "id": "b7231898",
   "metadata": {
    "id": "install_storage",
    "papermill": {
     "duration": 0.028521,
     "end_time": "2022-06-14T20:41:12.270617",
     "exception": false,
     "start_time": "2022-06-14T20:41:12.242096",
     "status": "completed"
    },
    "tags": []
   },
   "source": [
    "Install the latest version of *google-cloud-storage*."
   ]
  },
  {
   "cell_type": "code",
   "execution_count": 3,
   "id": "fefee15f",
   "metadata": {
    "execution": {
     "iopub.execute_input": "2022-06-14T20:41:12.330116Z",
     "iopub.status.busy": "2022-06-14T20:41:12.329508Z",
     "iopub.status.idle": "2022-06-14T20:41:14.883794Z",
     "shell.execute_reply": "2022-06-14T20:41:14.882957Z"
    },
    "id": "install_storage",
    "papermill": {
     "duration": 2.586752,
     "end_time": "2022-06-14T20:41:14.883979",
     "exception": false,
     "start_time": "2022-06-14T20:41:12.297227",
     "status": "completed"
    },
    "tags": []
   },
   "outputs": [
    {
     "name": "stdout",
     "output_type": "stream",
     "text": [
      "Requirement already satisfied: google-cloud-storage in ./env/lib/python3.8/site-packages (2.4.0)\r\n"
     ]
    },
    {
     "name": "stdout",
     "output_type": "stream",
     "text": [
      "Requirement already satisfied: google-api-core!=2.0.*,!=2.1.*,!=2.2.*,!=2.3.0,<3.0.0dev,>=1.31.5 in ./env/lib/python3.8/site-packages (from google-cloud-storage) (2.7.2)\r\n",
      "Requirement already satisfied: google-auth<3.0dev,>=1.25.0 in ./env/lib/python3.8/site-packages (from google-cloud-storage) (1.35.0)\r\n",
      "Requirement already satisfied: google-cloud-core<3.0dev,>=2.3.0 in ./env/lib/python3.8/site-packages (from google-cloud-storage) (2.3.0)\r\n",
      "Requirement already satisfied: google-resumable-media>=2.3.2 in ./env/lib/python3.8/site-packages (from google-cloud-storage) (2.3.3)\r\n",
      "Requirement already satisfied: requests<3.0.0dev,>=2.18.0 in ./env/lib/python3.8/site-packages (from google-cloud-storage) (2.26.0)\r\n",
      "Requirement already satisfied: googleapis-common-protos<2.0dev,>=1.52.0 in ./env/lib/python3.8/site-packages (from google-api-core!=2.0.*,!=2.1.*,!=2.2.*,!=2.3.0,<3.0.0dev,>=1.31.5->google-cloud-storage) (1.56.0)\r\n",
      "Requirement already satisfied: protobuf>=3.12.0 in ./env/lib/python3.8/site-packages (from google-api-core!=2.0.*,!=2.1.*,!=2.2.*,!=2.3.0,<3.0.0dev,>=1.31.5->google-cloud-storage) (3.20.1)\r\n"
     ]
    },
    {
     "name": "stdout",
     "output_type": "stream",
     "text": [
      "Requirement already satisfied: cachetools<5.0,>=2.0.0 in ./env/lib/python3.8/site-packages (from google-auth<3.0dev,>=1.25.0->google-cloud-storage) (4.2.2)\r\n",
      "Requirement already satisfied: rsa<5,>=3.1.4 in ./env/lib/python3.8/site-packages (from google-auth<3.0dev,>=1.25.0->google-cloud-storage) (4.7.2)\r\n",
      "Requirement already satisfied: setuptools>=40.3.0 in ./env/lib/python3.8/site-packages (from google-auth<3.0dev,>=1.25.0->google-cloud-storage) (57.4.0)\r\n",
      "Requirement already satisfied: pyasn1-modules>=0.2.1 in ./env/lib/python3.8/site-packages (from google-auth<3.0dev,>=1.25.0->google-cloud-storage) (0.2.8)\r\n",
      "Requirement already satisfied: six>=1.9.0 in ./env/lib/python3.8/site-packages (from google-auth<3.0dev,>=1.25.0->google-cloud-storage) (1.15.0)\r\n",
      "Requirement already satisfied: google-crc32c<2.0dev,>=1.0 in ./env/lib/python3.8/site-packages (from google-resumable-media>=2.3.2->google-cloud-storage) (1.1.2)\r\n",
      "Requirement already satisfied: cffi>=1.0.0 in ./env/lib/python3.8/site-packages (from google-crc32c<2.0dev,>=1.0->google-resumable-media>=2.3.2->google-cloud-storage) (1.14.6)\r\n",
      "Requirement already satisfied: pycparser in ./env/lib/python3.8/site-packages (from cffi>=1.0.0->google-crc32c<2.0dev,>=1.0->google-resumable-media>=2.3.2->google-cloud-storage) (2.20)\r\n",
      "Requirement already satisfied: pyasn1<0.5.0,>=0.4.6 in ./env/lib/python3.8/site-packages (from pyasn1-modules>=0.2.1->google-auth<3.0dev,>=1.25.0->google-cloud-storage) (0.4.8)\r\n"
     ]
    },
    {
     "name": "stdout",
     "output_type": "stream",
     "text": [
      "Requirement already satisfied: urllib3<1.27,>=1.21.1 in ./env/lib/python3.8/site-packages (from requests<3.0.0dev,>=2.18.0->google-cloud-storage) (1.26.6)\r\n"
     ]
    },
    {
     "name": "stdout",
     "output_type": "stream",
     "text": [
      "Requirement already satisfied: charset-normalizer~=2.0.0 in ./env/lib/python3.8/site-packages (from requests<3.0.0dev,>=2.18.0->google-cloud-storage) (2.0.4)\r\n",
      "Requirement already satisfied: certifi>=2017.4.17 in ./env/lib/python3.8/site-packages (from requests<3.0.0dev,>=2.18.0->google-cloud-storage) (2021.5.30)\r\n",
      "Requirement already satisfied: idna<4,>=2.5 in ./env/lib/python3.8/site-packages (from requests<3.0.0dev,>=2.18.0->google-cloud-storage) (3.2)\r\n"
     ]
    },
    {
     "name": "stdout",
     "output_type": "stream",
     "text": [
      "\u001b[33mWARNING: You are using pip version 21.1.3; however, version 22.1.2 is available.\r\n",
      "You should consider upgrading via the '/Users/ivanmkc/Documents/code/vertex-ai-samples/env/bin/python -m pip install --upgrade pip' command.\u001b[0m\r\n"
     ]
    }
   ],
   "source": [
    "! pip3 install -U google-cloud-storage $USER_FLAG"
   ]
  },
  {
   "cell_type": "markdown",
   "id": "e2c6ffa3",
   "metadata": {
    "id": "b2f8bf1a1c31",
    "papermill": {
     "duration": 0.027804,
     "end_time": "2022-06-14T20:41:14.941768",
     "exception": false,
     "start_time": "2022-06-14T20:41:14.913964",
     "status": "completed"
    },
    "tags": []
   },
   "source": [
    "Install the latest version of *google-cloud-bigquery*."
   ]
  },
  {
   "cell_type": "code",
   "execution_count": 4,
   "id": "8c60f60d",
   "metadata": {
    "execution": {
     "iopub.execute_input": "2022-06-14T20:41:14.998168Z",
     "iopub.status.busy": "2022-06-14T20:41:14.997605Z",
     "iopub.status.idle": "2022-06-14T20:41:17.235128Z",
     "shell.execute_reply": "2022-06-14T20:41:17.234485Z"
    },
    "id": "fb18bb35a386",
    "papermill": {
     "duration": 2.266529,
     "end_time": "2022-06-14T20:41:17.235382",
     "exception": false,
     "start_time": "2022-06-14T20:41:14.968853",
     "status": "completed"
    },
    "tags": []
   },
   "outputs": [
    {
     "name": "stdout",
     "output_type": "stream",
     "text": [
      "Requirement already satisfied: google-cloud-bigquery[pandas] in ./env/lib/python3.8/site-packages (2.24.0)\r\n",
      "Requirement already satisfied: packaging>=14.3 in ./env/lib/python3.8/site-packages (from google-cloud-bigquery[pandas]) (21.0)\r\n",
      "Requirement already satisfied: grpcio<2.0dev,>=1.38.1 in ./env/lib/python3.8/site-packages (from google-cloud-bigquery[pandas]) (1.44.0)\r\n"
     ]
    },
    {
     "name": "stdout",
     "output_type": "stream",
     "text": [
      "Requirement already satisfied: requests<3.0.0dev,>=2.18.0 in ./env/lib/python3.8/site-packages (from google-cloud-bigquery[pandas]) (2.26.0)\r\n",
      "Requirement already satisfied: google-api-core[grpc]<3.0.0dev,>=1.29.0 in ./env/lib/python3.8/site-packages (from google-cloud-bigquery[pandas]) (2.7.2)\r\n",
      "Requirement already satisfied: google-cloud-core<3.0.0dev,>=1.4.1 in ./env/lib/python3.8/site-packages (from google-cloud-bigquery[pandas]) (2.3.0)\r\n",
      "Requirement already satisfied: proto-plus>=1.10.0 in ./env/lib/python3.8/site-packages (from google-cloud-bigquery[pandas]) (1.19.0)\r\n",
      "Requirement already satisfied: protobuf>=3.12.0 in ./env/lib/python3.8/site-packages (from google-cloud-bigquery[pandas]) (3.20.1)\r\n",
      "Requirement already satisfied: google-resumable-media<3.0dev,>=0.6.0 in ./env/lib/python3.8/site-packages (from google-cloud-bigquery[pandas]) (2.3.3)\r\n",
      "Requirement already satisfied: pyarrow<6.0dev,>=1.0.0 in ./env/lib/python3.8/site-packages (from google-cloud-bigquery[pandas]) (5.0.0)\r\n",
      "Requirement already satisfied: pandas>=0.23.0 in ./env/lib/python3.8/site-packages (from google-cloud-bigquery[pandas]) (1.4.2)\r\n",
      "Requirement already satisfied: google-auth<3.0dev,>=1.25.0 in ./env/lib/python3.8/site-packages (from google-api-core[grpc]<3.0.0dev,>=1.29.0->google-cloud-bigquery[pandas]) (1.35.0)\r\n",
      "Requirement already satisfied: googleapis-common-protos<2.0dev,>=1.52.0 in ./env/lib/python3.8/site-packages (from google-api-core[grpc]<3.0.0dev,>=1.29.0->google-cloud-bigquery[pandas]) (1.56.0)\r\n",
      "Requirement already satisfied: grpcio-status<2.0dev,>=1.33.2 in ./env/lib/python3.8/site-packages (from google-api-core[grpc]<3.0.0dev,>=1.29.0->google-cloud-bigquery[pandas]) (1.44.0)\r\n"
     ]
    },
    {
     "name": "stdout",
     "output_type": "stream",
     "text": [
      "Requirement already satisfied: six>=1.9.0 in ./env/lib/python3.8/site-packages (from google-auth<3.0dev,>=1.25.0->google-api-core[grpc]<3.0.0dev,>=1.29.0->google-cloud-bigquery[pandas]) (1.15.0)\r\n",
      "Requirement already satisfied: rsa<5,>=3.1.4 in ./env/lib/python3.8/site-packages (from google-auth<3.0dev,>=1.25.0->google-api-core[grpc]<3.0.0dev,>=1.29.0->google-cloud-bigquery[pandas]) (4.7.2)\r\n",
      "Requirement already satisfied: cachetools<5.0,>=2.0.0 in ./env/lib/python3.8/site-packages (from google-auth<3.0dev,>=1.25.0->google-api-core[grpc]<3.0.0dev,>=1.29.0->google-cloud-bigquery[pandas]) (4.2.2)\r\n",
      "Requirement already satisfied: setuptools>=40.3.0 in ./env/lib/python3.8/site-packages (from google-auth<3.0dev,>=1.25.0->google-api-core[grpc]<3.0.0dev,>=1.29.0->google-cloud-bigquery[pandas]) (57.4.0)\r\n",
      "Requirement already satisfied: pyasn1-modules>=0.2.1 in ./env/lib/python3.8/site-packages (from google-auth<3.0dev,>=1.25.0->google-api-core[grpc]<3.0.0dev,>=1.29.0->google-cloud-bigquery[pandas]) (0.2.8)\r\n",
      "Requirement already satisfied: google-crc32c<2.0dev,>=1.0 in ./env/lib/python3.8/site-packages (from google-resumable-media<3.0dev,>=0.6.0->google-cloud-bigquery[pandas]) (1.1.2)\r\n",
      "Requirement already satisfied: cffi>=1.0.0 in ./env/lib/python3.8/site-packages (from google-crc32c<2.0dev,>=1.0->google-resumable-media<3.0dev,>=0.6.0->google-cloud-bigquery[pandas]) (1.14.6)\r\n",
      "Requirement already satisfied: pycparser in ./env/lib/python3.8/site-packages (from cffi>=1.0.0->google-crc32c<2.0dev,>=1.0->google-resumable-media<3.0dev,>=0.6.0->google-cloud-bigquery[pandas]) (2.20)\r\n"
     ]
    },
    {
     "name": "stdout",
     "output_type": "stream",
     "text": [
      "Requirement already satisfied: pyparsing>=2.0.2 in ./env/lib/python3.8/site-packages (from packaging>=14.3->google-cloud-bigquery[pandas]) (2.4.7)\r\n"
     ]
    },
    {
     "name": "stdout",
     "output_type": "stream",
     "text": [
      "Requirement already satisfied: pytz>=2020.1 in ./env/lib/python3.8/site-packages (from pandas>=0.23.0->google-cloud-bigquery[pandas]) (2021.1)\r\n",
      "Requirement already satisfied: python-dateutil>=2.8.1 in ./env/lib/python3.8/site-packages (from pandas>=0.23.0->google-cloud-bigquery[pandas]) (2.8.2)\r\n",
      "Requirement already satisfied: numpy>=1.18.5 in ./env/lib/python3.8/site-packages (from pandas>=0.23.0->google-cloud-bigquery[pandas]) (1.22.4)\r\n"
     ]
    },
    {
     "name": "stdout",
     "output_type": "stream",
     "text": [
      "Requirement already satisfied: pyasn1<0.5.0,>=0.4.6 in ./env/lib/python3.8/site-packages (from pyasn1-modules>=0.2.1->google-auth<3.0dev,>=1.25.0->google-api-core[grpc]<3.0.0dev,>=1.29.0->google-cloud-bigquery[pandas]) (0.4.8)\r\n",
      "Requirement already satisfied: charset-normalizer~=2.0.0 in ./env/lib/python3.8/site-packages (from requests<3.0.0dev,>=2.18.0->google-cloud-bigquery[pandas]) (2.0.4)\r\n"
     ]
    },
    {
     "name": "stdout",
     "output_type": "stream",
     "text": [
      "Requirement already satisfied: certifi>=2017.4.17 in ./env/lib/python3.8/site-packages (from requests<3.0.0dev,>=2.18.0->google-cloud-bigquery[pandas]) (2021.5.30)\r\n",
      "Requirement already satisfied: urllib3<1.27,>=1.21.1 in ./env/lib/python3.8/site-packages (from requests<3.0.0dev,>=2.18.0->google-cloud-bigquery[pandas]) (1.26.6)\r\n",
      "Requirement already satisfied: idna<4,>=2.5 in ./env/lib/python3.8/site-packages (from requests<3.0.0dev,>=2.18.0->google-cloud-bigquery[pandas]) (3.2)\r\n"
     ]
    },
    {
     "name": "stdout",
     "output_type": "stream",
     "text": [
      "\u001b[33mWARNING: You are using pip version 21.1.3; however, version 22.1.2 is available.\r\n",
      "You should consider upgrading via the '/Users/ivanmkc/Documents/code/vertex-ai-samples/env/bin/python -m pip install --upgrade pip' command.\u001b[0m\r\n"
     ]
    }
   ],
   "source": [
    "! pip3 install -U \"google-cloud-bigquery[pandas]\" $USER_FLAG"
   ]
  },
  {
   "cell_type": "markdown",
   "id": "d55da5a2",
   "metadata": {
    "id": "restart",
    "papermill": {
     "duration": 0.029007,
     "end_time": "2022-06-14T20:41:17.296144",
     "exception": false,
     "start_time": "2022-06-14T20:41:17.267137",
     "status": "completed"
    },
    "tags": []
   },
   "source": [
    "### Restart the kernel\n",
    "\n",
    "After installing the packages, restart the notebook kernel."
   ]
  },
  {
   "cell_type": "code",
   "execution_count": 5,
   "id": "f734ae47",
   "metadata": {
    "execution": {
     "iopub.execute_input": "2022-06-14T20:41:17.357794Z",
     "iopub.status.busy": "2022-06-14T20:41:17.357053Z",
     "iopub.status.idle": "2022-06-14T20:41:17.359026Z",
     "shell.execute_reply": "2022-06-14T20:41:17.359507Z"
    },
    "id": "restart",
    "papermill": {
     "duration": 0.035047,
     "end_time": "2022-06-14T20:41:17.359687",
     "exception": false,
     "start_time": "2022-06-14T20:41:17.324640",
     "status": "completed"
    },
    "tags": []
   },
   "outputs": [],
   "source": [
    "import os\n",
    "\n",
    "if not os.getenv(\"IS_TESTING\"):\n",
    "    # Automatically restart kernel after installs\n",
    "    import IPython\n",
    "\n",
    "    app = IPython.Application.instance()\n",
    "    app.kernel.do_shutdown(True)"
   ]
  },
  {
   "cell_type": "markdown",
   "id": "12557d25",
   "metadata": {
    "id": "before_you_begin:nogpu",
    "papermill": {
     "duration": 0.029453,
     "end_time": "2022-06-14T20:41:17.418813",
     "exception": false,
     "start_time": "2022-06-14T20:41:17.389360",
     "status": "completed"
    },
    "tags": []
   },
   "source": [
    "## Before you begin\n",
    "\n",
    "### GPU runtime\n",
    "\n",
    "This tutorial does not require a GPU runtime.\n",
    "\n",
    "### Set up your Google Cloud project\n",
    "\n",
    "**The following steps are required, regardless of your notebook environment.**\n",
    "\n",
    "1. [Select or create a Google Cloud project](https://console.cloud.google.com/cloud-resource-manager). When you first create an account, you get a $300 free credit towards your compute/storage costs.\n",
    "\n",
    "2. [Make sure that billing is enabled for your project.](https://cloud.google.com/billing/docs/how-to/modify-project)\n",
    "\n",
    "3. [Enable the following APIs: Vertex AI APIs, Compute Engine APIs, and Cloud Storage.](https://console.cloud.google.com/flows/enableapi?apiid=ml.googleapis.com,compute_component,storage-component.googleapis.com)\n",
    "\n",
    "4. If you are running this notebook locally, install the [Cloud SDK]((https://cloud.google.com/sdk)).\n",
    "\n",
    "5. Enter your project ID in the cell below. Then run the  cell to make sure the\n",
    "Cloud SDK uses the right project for all the commands in this notebook.\n",
    "\n",
    "**Note**: Jupyter runs lines prefixed with `!` as shell commands, and it interpolates Python variables prefixed with `$`."
   ]
  },
  {
   "cell_type": "code",
   "execution_count": null,
   "id": "ffc0cf64",
   "metadata": {
    "execution": {
     "iopub.execute_input": "2022-06-14T20:32:19.103006Z",
     "iopub.status.busy": "2022-06-14T20:32:19.101139Z",
     "iopub.status.idle": "2022-06-14T20:32:19.105227Z",
     "shell.execute_reply": "2022-06-14T20:32:19.106594Z"
    },
    "id": "set_project_id",
    "papermill": {
     "duration": 1.032445,
     "end_time": "2022-06-14T20:41:18.481315",
     "exception": false,
     "start_time": "2022-06-14T20:41:17.448870",
     "status": "completed"
    },
    "tags": []
   },
   "outputs": [],
   "source": [
    "PROJECT_ID = \"python-docs-samples-tests\"  # @param {type:\"string\"}"
   ]
  },
  {
   "cell_type": "code",
   "execution_count": null,
   "id": "0f3540ca",
   "metadata": {
    "execution": {
     "iopub.execute_input": "2022-06-14T20:32:19.918740Z",
     "iopub.status.busy": "2022-06-14T20:32:19.915856Z",
     "iopub.status.idle": "2022-06-14T20:32:21.218851Z",
     "shell.execute_reply": "2022-06-14T20:32:21.220346Z"
    },
    "id": "autoset_project_id",
    "papermill": {
     "duration": null,
     "end_time": null,
     "exception": null,
     "start_time": null,
     "status": "completed"
    },
    "tags": []
   },
   "outputs": [],
   "source": [
    "if PROJECT_ID == \"\" or PROJECT_ID is None or PROJECT_ID == \"python-docs-samples-tests\":\n",
    "    # Get your GCP project id from gcloud\n",
    "    shell_output = ! gcloud config list --format 'value(core.project)' 2>/dev/null\n",
    "    PROJECT_ID = shell_output[0]\n",
    "    print(\"Project ID:\", PROJECT_ID)"
   ]
  },
  {
   "cell_type": "code",
   "execution_count": null,
   "id": "9a3afba4",
   "metadata": {
    "execution": {
     "iopub.execute_input": "2022-06-14T20:32:21.998143Z",
     "iopub.status.busy": "2022-06-14T20:32:21.996293Z",
     "iopub.status.idle": "2022-06-14T20:32:23.640472Z",
     "shell.execute_reply": "2022-06-14T20:32:23.641920Z"
    },
    "id": "set_gcloud_project_id",
    "papermill": {
     "duration": null,
     "end_time": null,
     "exception": null,
     "start_time": null,
     "status": "completed"
    },
    "tags": []
   },
   "outputs": [],
   "source": [
    "! gcloud config set project $PROJECT_ID"
   ]
  },
  {
   "cell_type": "markdown",
   "id": "3ed06987",
   "metadata": {
    "id": "region",
    "papermill": {
     "duration": null,
     "end_time": null,
     "exception": null,
     "start_time": null,
     "status": "completed"
    },
    "tags": []
   },
   "source": [
    "#### Region\n",
    "\n",
    "You can also change the `REGION` variable, which is used for operations throughout the rest of this notebook. The following regions supported for Vertex AI. We recommend that you choose the region closest to you.\n",
    "\n",
    "- Americas: `us-central1`\n",
    "- Europe: `europe-west4`\n",
    "- Asia Pacific: `asia-east1`\n",
    "\n",
    "You may not use a multi-regional bucket for training with Vertex AI. Not all regions provide support for all Vertex AI services.\n",
    "\n",
    "Learn more about [Vertex AI regions](https://cloud.google.com/vertex-ai/docs/general/locations)."
   ]
  },
  {
   "cell_type": "code",
   "execution_count": null,
   "id": "e125758b",
   "metadata": {
    "execution": {
     "iopub.execute_input": "2022-06-14T20:32:25.491922Z",
     "iopub.status.busy": "2022-06-14T20:32:25.489047Z",
     "iopub.status.idle": "2022-06-14T20:32:25.495562Z",
     "shell.execute_reply": "2022-06-14T20:32:25.497569Z"
    },
    "id": "region",
    "papermill": {
     "duration": null,
     "end_time": null,
     "exception": null,
     "start_time": null,
     "status": "completed"
    },
    "tags": []
   },
   "outputs": [],
   "source": [
    "REGION = \"us-central1\"  # @param {type: \"string\"}"
   ]
  },
  {
   "cell_type": "markdown",
   "id": "1214270d",
   "metadata": {
    "id": "timestamp",
    "papermill": {
     "duration": null,
     "end_time": null,
     "exception": null,
     "start_time": null,
     "status": "completed"
    },
    "tags": []
   },
   "source": [
    "#### Timestamp\n",
    "\n",
    "If you are in a live tutorial session, you might be using a shared test account or project. To avoid name collisions between users on resources created, create a timestamp for each instance session, and append the timestamp onto the name of resources you create in this tutorial."
   ]
  },
  {
   "cell_type": "code",
   "execution_count": null,
   "id": "f8b6bff2",
   "metadata": {
    "execution": {
     "iopub.execute_input": "2022-06-14T20:32:27.682366Z",
     "iopub.status.busy": "2022-06-14T20:32:27.680300Z",
     "iopub.status.idle": "2022-06-14T20:32:27.684324Z",
     "shell.execute_reply": "2022-06-14T20:32:27.685907Z"
    },
    "id": "timestamp",
    "papermill": {
     "duration": null,
     "end_time": null,
     "exception": null,
     "start_time": null,
     "status": "completed"
    },
    "tags": []
   },
   "outputs": [],
   "source": [
    "from datetime import datetime\n",
    "\n",
    "TIMESTAMP = datetime.now().strftime(\"%Y%m%d%H%M%S\")"
   ]
  },
  {
   "cell_type": "markdown",
   "id": "c3eddab9",
   "metadata": {
    "id": "gcp_authenticate",
    "papermill": {
     "duration": null,
     "end_time": null,
     "exception": null,
     "start_time": null,
     "status": "completed"
    },
    "tags": []
   },
   "source": [
    "### Authenticate your Google Cloud account\n",
    "\n",
    "**If you are using Google Cloud Notebooks**, your environment is already authenticated. Skip this step.\n",
    "\n",
    "**If you are using Colab**, run the cell below and follow the instructions when prompted to authenticate your account via oAuth.\n",
    "\n",
    "**Otherwise**, follow these steps:\n",
    "\n",
    "In the Cloud Console, go to the [Create service account key](https://console.cloud.google.com/apis/credentials/serviceaccountkey) page.\n",
    "\n",
    "**Click Create service account**.\n",
    "\n",
    "In the **Service account name** field, enter a name, and click **Create**.\n",
    "\n",
    "In the **Grant this service account access to project** section, click the Role drop-down list. Type \"Vertex\" into the filter box, and select **Vertex Administrator**. Type \"Storage Object Admin\" into the filter box, and select **Storage Object Admin**.\n",
    "\n",
    "Click Create. A JSON file that contains your key downloads to your local environment.\n",
    "\n",
    "Enter the path to your service account key as the GOOGLE_APPLICATION_CREDENTIALS variable in the cell below and run the cell."
   ]
  },
  {
   "cell_type": "code",
   "execution_count": null,
   "id": "61e083be",
   "metadata": {
    "execution": {
     "iopub.execute_input": "2022-06-14T20:32:29.472847Z",
     "iopub.status.busy": "2022-06-14T20:32:29.471236Z",
     "iopub.status.idle": "2022-06-14T20:32:29.474678Z",
     "shell.execute_reply": "2022-06-14T20:32:29.475937Z"
    },
    "id": "gcp_authenticate",
    "papermill": {
     "duration": null,
     "end_time": null,
     "exception": null,
     "start_time": null,
     "status": "completed"
    },
    "tags": []
   },
   "outputs": [],
   "source": [
    "# If you are running this notebook in Colab, run this cell and follow the\n",
    "# instructions to authenticate your GCP account. This provides access to your\n",
    "# Cloud Storage bucket and lets you submit training jobs and prediction\n",
    "# requests.\n",
    "\n",
    "import os\n",
    "import sys\n",
    "\n",
    "# If on Google Cloud Notebook, then don't execute this code\n",
    "if not os.path.exists(\"/opt/deeplearning/metadata/env_version\"):\n",
    "    if \"google.colab\" in sys.modules:\n",
    "        from google.colab import auth as google_auth\n",
    "\n",
    "        google_auth.authenticate_user()\n",
    "\n",
    "    # If you are running this notebook locally, replace the string below with the\n",
    "    # path to your service account key and run this cell to authenticate your GCP\n",
    "    # account.\n",
    "    elif not os.getenv(\"IS_TESTING\"):\n",
    "        ! gcloud auth login"
   ]
  },
  {
   "cell_type": "markdown",
   "id": "34857d8e",
   "metadata": {
    "id": "setup_vars",
    "papermill": {
     "duration": null,
     "end_time": null,
     "exception": null,
     "start_time": null,
     "status": "completed"
    },
    "tags": []
   },
   "source": [
    "### Set up variables\n",
    "\n",
    "Next, set up some variables used throughout the tutorial.\n",
    "### Import libraries and define constants"
   ]
  },
  {
   "cell_type": "code",
   "execution_count": null,
   "id": "9ad5c0d9",
   "metadata": {
    "execution": {
     "iopub.execute_input": "2022-06-14T20:32:31.095405Z",
     "iopub.status.busy": "2022-06-14T20:32:31.093841Z",
     "iopub.status.idle": "2022-06-14T20:32:36.531807Z",
     "shell.execute_reply": "2022-06-14T20:32:36.530527Z"
    },
    "id": "import_aip:mbsdk",
    "papermill": {
     "duration": null,
     "end_time": null,
     "exception": null,
     "start_time": null,
     "status": "completed"
    },
    "tags": []
   },
   "outputs": [],
   "source": [
    "import google.cloud.aiplatform as aiplatform"
   ]
  },
  {
   "cell_type": "markdown",
   "id": "57f29a84",
   "metadata": {
    "id": "init_aip:mbsdk",
    "papermill": {
     "duration": null,
     "end_time": null,
     "exception": null,
     "start_time": null,
     "status": "completed"
    },
    "tags": []
   },
   "source": [
    "## Initialize Vertex AI SDK for Python\n",
    "\n",
    "Initialize the Vertex AI SDK for Python for your project and the corresponding bucket."
   ]
  },
  {
   "cell_type": "code",
   "execution_count": null,
   "id": "03932a60",
   "metadata": {
    "execution": {
     "iopub.execute_input": "2022-06-14T20:32:38.061440Z",
     "iopub.status.busy": "2022-06-14T20:32:38.059266Z",
     "iopub.status.idle": "2022-06-14T20:32:38.063490Z",
     "shell.execute_reply": "2022-06-14T20:32:38.064740Z"
    },
    "id": "init_aip:mbsdk",
    "papermill": {
     "duration": null,
     "end_time": null,
     "exception": null,
     "start_time": null,
     "status": "completed"
    },
    "tags": []
   },
   "outputs": [],
   "source": [
    "aiplatform.init(project=PROJECT_ID, location=REGION)"
   ]
  },
  {
   "cell_type": "markdown",
   "id": "7b49f142",
   "metadata": {
    "id": "tutorial_start:automl",
    "papermill": {
     "duration": null,
     "end_time": null,
     "exception": null,
     "start_time": null,
     "status": "completed"
    },
    "tags": []
   },
   "source": [
    "# Tutorial\n",
    "\n",
    "Now you are ready to start creating your own AutoML tabular regression model."
   ]
  },
  {
   "cell_type": "markdown",
   "id": "6d767ed1",
   "metadata": {
    "id": "import_file:u_dataset,bq",
    "papermill": {
     "duration": null,
     "end_time": null,
     "exception": null,
     "start_time": null,
     "status": "completed"
    },
    "tags": []
   },
   "source": [
    "#### Location of BigQuery training data.\n",
    "\n",
    "Set the `IMPORT_File` variable to the location of the data table in BigQuery."
   ]
  },
  {
   "cell_type": "code",
   "execution_count": null,
   "id": "fb44c032",
   "metadata": {
    "execution": {
     "iopub.execute_input": "2022-06-14T20:32:40.568277Z",
     "iopub.status.busy": "2022-06-14T20:32:40.566559Z",
     "iopub.status.idle": "2022-06-14T20:32:40.570088Z",
     "shell.execute_reply": "2022-06-14T20:32:40.571378Z"
    },
    "id": "import_file:gsod,bq,lrg",
    "papermill": {
     "duration": null,
     "end_time": null,
     "exception": null,
     "start_time": null,
     "status": "completed"
    },
    "tags": []
   },
   "outputs": [],
   "source": [
    "IMPORT_FILE = \"bigquery-public-data.samples.gsod\""
   ]
  },
  {
   "cell_type": "markdown",
   "id": "eb1cdfb5",
   "metadata": {
    "id": "07d8e5973590",
    "papermill": {
     "duration": null,
     "end_time": null,
     "exception": null,
     "start_time": null,
     "status": "completed"
    },
    "tags": []
   },
   "source": [
    "#### Prepare the batch prediction data\n",
    "\n",
    "Create two datasets from the original data."
   ]
  },
  {
   "cell_type": "code",
   "execution_count": null,
   "id": "681d4b9d",
   "metadata": {
    "execution": {
     "iopub.execute_input": "2022-06-14T20:32:42.142839Z",
     "iopub.status.busy": "2022-06-14T20:32:42.141108Z",
     "iopub.status.idle": "2022-06-14T20:32:43.334015Z",
     "shell.execute_reply": "2022-06-14T20:32:43.335545Z"
    },
    "id": "63a447565c9c",
    "papermill": {
     "duration": null,
     "end_time": null,
     "exception": null,
     "start_time": null,
     "status": "completed"
    },
    "tags": []
   },
   "outputs": [],
   "source": [
    "from google.cloud import bigquery\n",
    "\n",
    "# Create client in default region\n",
    "bq_client = bigquery.Client(\n",
    "    project=PROJECT_ID,\n",
    "    credentials=aiplatform.initializer.global_config.credentials,\n",
    ")"
   ]
  },
  {
   "cell_type": "code",
   "execution_count": null,
   "id": "ed5be545",
   "metadata": {
    "execution": {
     "iopub.execute_input": "2022-06-14T20:32:44.193019Z",
     "iopub.status.busy": "2022-06-14T20:32:44.191229Z",
     "iopub.status.idle": "2022-06-14T20:32:45.508929Z",
     "shell.execute_reply": "2022-06-14T20:32:45.510521Z"
    },
    "id": "56ade963c098",
    "papermill": {
     "duration": null,
     "end_time": null,
     "exception": null,
     "start_time": null,
     "status": "completed"
    },
    "tags": []
   },
   "outputs": [],
   "source": [
    "# Create training dataset in default region\n",
    "TRAINING_INPUT_DATASET_ID = f\"gsod_training_{TIMESTAMP}\"\n",
    "bq_dataset = bigquery.Dataset(f\"{PROJECT_ID}.{TRAINING_INPUT_DATASET_ID}\")\n",
    "bq_dataset = bq_client.create_dataset(bq_dataset)\n",
    "print(f\"Created dataset {bq_client.project}.{bq_dataset.dataset_id}\")\n",
    "\n",
    "# Create test dataset in default region\n",
    "PREDICTION_INPUT_DATASET_ID = f\"gsod_prediction_{TIMESTAMP}\"\n",
    "bq_dataset = bigquery.Dataset(f\"{PROJECT_ID}.{PREDICTION_INPUT_DATASET_ID}\")\n",
    "bq_dataset = bq_client.create_dataset(bq_dataset)\n",
    "print(f\"Created dataset {bq_client.project}.{bq_dataset.dataset_id}\")"
   ]
  },
  {
   "cell_type": "code",
   "execution_count": null,
   "id": "f6d1e7a8",
   "metadata": {
    "execution": {
     "iopub.execute_input": "2022-06-14T20:32:46.307704Z",
     "iopub.status.busy": "2022-06-14T20:32:46.306065Z",
     "iopub.status.idle": "2022-06-14T20:32:48.883234Z",
     "shell.execute_reply": "2022-06-14T20:32:48.884586Z"
    },
    "id": "5b790c91182f",
    "papermill": {
     "duration": null,
     "end_time": null,
     "exception": null,
     "start_time": null,
     "status": "completed"
    },
    "tags": []
   },
   "outputs": [],
   "source": [
    "# Select top 3000 rows of dataset\n",
    "TRAINING_SIZE = 3000\n",
    "query = f\"\"\"\n",
    "        SELECT *\n",
    "        FROM {IMPORT_FILE}\n",
    "        LIMIT {TRAINING_SIZE}\n",
    "        \"\"\"\n",
    "\n",
    "TRAINING_INPUT_TABLE_ID = f\"{PROJECT_ID}.{TRAINING_INPUT_DATASET_ID}.test\"\n",
    "job_config = bigquery.QueryJobConfig(destination=TRAINING_INPUT_TABLE_ID)\n",
    "\n",
    "query_job = bq_client.query(query, job_config=job_config)  # API request\n",
    "query_job.result()  # Waits for query to finish"
   ]
  },
  {
   "cell_type": "code",
   "execution_count": null,
   "id": "82f408ff",
   "metadata": {
    "execution": {
     "iopub.execute_input": "2022-06-14T20:32:49.741473Z",
     "iopub.status.busy": "2022-06-14T20:32:49.739745Z",
     "iopub.status.idle": "2022-06-14T20:32:52.873492Z",
     "shell.execute_reply": "2022-06-14T20:32:52.874934Z"
    },
    "id": "8f841da4574b",
    "papermill": {
     "duration": null,
     "end_time": null,
     "exception": null,
     "start_time": null,
     "status": "completed"
    },
    "tags": []
   },
   "outputs": [],
   "source": [
    "# Select a subset of the original dataset for testing\n",
    "PREDICTION_SIZE = 100\n",
    "query = f\"\"\"\n",
    "        SELECT *\n",
    "        FROM {IMPORT_FILE}\n",
    "        LIMIT {PREDICTION_SIZE}\n",
    "        OFFSET {TRAINING_SIZE}        \n",
    "        \"\"\"\n",
    "\n",
    "PREDICTION_INPUT_TABLE_ID = f\"{PROJECT_ID}.{PREDICTION_INPUT_DATASET_ID}.prediction\"\n",
    "job_config = bigquery.QueryJobConfig(destination=PREDICTION_INPUT_TABLE_ID)\n",
    "\n",
    "query_job = bq_client.query(query, job_config=job_config)  # API request\n",
    "query_job.result()  # Waits for query to finish"
   ]
  },
  {
   "cell_type": "markdown",
   "id": "5768dcb4",
   "metadata": {
    "id": "create_dataset:tabular,bq,lrg",
    "papermill": {
     "duration": null,
     "end_time": null,
     "exception": null,
     "start_time": null,
     "status": "completed"
    },
    "tags": []
   },
   "source": [
    "### Create the Dataset\n",
    "\n",
    "Use `TabularDataset.create()` to create a `TabularDataset` resource, which takes the following parameters:\n",
    "\n",
    "- `display_name`: The human readable name for the `Dataset` resource.\n",
    "- `gcs_source`: A list of one or more dataset index files to import the data items into the `Dataset` resource.\n",
    "- `bq_source`: Alternatively, import data items from a BigQuery table into the `Dataset` resource.\n",
    "\n",
    "This operation may take several minutes."
   ]
  },
  {
   "cell_type": "code",
   "execution_count": null,
   "id": "d7239baa",
   "metadata": {
    "execution": {
     "iopub.execute_input": "2022-06-14T20:32:54.613252Z",
     "iopub.status.busy": "2022-06-14T20:32:54.611459Z",
     "iopub.status.idle": "2022-06-14T20:33:01.186400Z",
     "shell.execute_reply": "2022-06-14T20:33:01.187977Z"
    },
    "id": "create_dataset:tabular,bq,lrg",
    "papermill": {
     "duration": null,
     "end_time": null,
     "exception": null,
     "start_time": null,
     "status": "completed"
    },
    "tags": []
   },
   "outputs": [],
   "source": [
    "dataset = aiplatform.TabularDataset.create(\n",
    "    display_name=\"NOAA historical weather data\" + \"_\" + TIMESTAMP,\n",
    "    bq_source=[f\"bq://{TRAINING_INPUT_TABLE_ID}\"],\n",
    ")\n",
    "\n",
    "label_column = \"mean_temp\"\n",
    "\n",
    "print(dataset.resource_name)"
   ]
  },
  {
   "cell_type": "code",
   "execution_count": null,
   "id": "ba45e3b4",
   "metadata": {
    "execution": {
     "iopub.execute_input": "2022-06-14T20:33:02.007506Z",
     "iopub.status.busy": "2022-06-14T20:33:02.005632Z",
     "iopub.status.idle": "2022-06-14T20:33:02.009438Z",
     "shell.execute_reply": "2022-06-14T20:33:02.010730Z"
    },
    "id": "set_transformations:gsod",
    "papermill": {
     "duration": null,
     "end_time": null,
     "exception": null,
     "start_time": null,
     "status": "completed"
    },
    "tags": []
   },
   "outputs": [],
   "source": [
    "COLUMN_SPECS = {\n",
    "    \"year\": \"auto\",\n",
    "    \"month\": \"auto\",\n",
    "    \"day\": \"auto\",\n",
    "}\n",
    "\n",
    "label_column = \"mean_temp\""
   ]
  },
  {
   "cell_type": "markdown",
   "id": "9ee50215",
   "metadata": {
    "id": "create_automl_pipeline:tabular,lrg,transformations",
    "papermill": {
     "duration": null,
     "end_time": null,
     "exception": null,
     "start_time": null,
     "status": "completed"
    },
    "tags": []
   },
   "source": [
    "### Create and run training pipeline\n",
    "\n",
    "To train an AutoML model, create and run a training pipeline.\n",
    "\n",
    "#### Create training pipeline\n",
    "\n",
    "Create an AutoML training pipeline using the `AutoMLTabularTrainingJob` class, with the following parameters:\n",
    "\n",
    "- `display_name`: The human readable name for the `TrainingJob` resource.\n",
    "- `optimization_prediction_type`: The type task to train the model for.\n",
    "  - `classification`: A tabular classification model.\n",
    "  - `regression`: A tabular regression model.\n",
    "- `column_transformations`: (Optional): Transformations to apply to the input columns\n",
    "- `optimization_objective`: The optimization objective (minimize or maximize).\n",
    "  - binary classification:\n",
    "    - `minimize-log-loss`\n",
    "    - `maximize-au-roc`\n",
    "    - `maximize-au-prc`\n",
    "    - `maximize-precision-at-recall`\n",
    "    - `maximize-recall-at-precision`\n",
    "  - multi-class classification:\n",
    "    - `minimize-log-loss`\n",
    "  - regression:\n",
    "    - `minimize-rmse`\n",
    "    - `minimize-mae`\n",
    "    - `minimize-rmsle`\n",
    "\n",
    "The instantiated object is the DAG (directed acyclic graph) for the training pipeline."
   ]
  },
  {
   "cell_type": "code",
   "execution_count": null,
   "id": "55b76cc3",
   "metadata": {
    "execution": {
     "iopub.execute_input": "2022-06-14T20:33:03.942392Z",
     "iopub.status.busy": "2022-06-14T20:33:03.940711Z",
     "iopub.status.idle": "2022-06-14T20:33:04.829528Z",
     "shell.execute_reply": "2022-06-14T20:33:04.831340Z"
    },
    "id": "create_automl_pipeline:tabular,lrg,transformations",
    "papermill": {
     "duration": null,
     "end_time": null,
     "exception": null,
     "start_time": null,
     "status": "completed"
    },
    "tags": []
   },
   "outputs": [],
   "source": [
    "training_job = aiplatform.AutoMLTabularTrainingJob(\n",
    "    display_name=\"gsod_\" + TIMESTAMP,\n",
    "    optimization_prediction_type=\"regression\",\n",
    "    optimization_objective=\"minimize-rmse\",\n",
    "    column_specs=COLUMN_SPECS,\n",
    ")\n",
    "\n",
    "print(training_job)"
   ]
  },
  {
   "cell_type": "markdown",
   "id": "4e1d3888",
   "metadata": {
    "id": "run_automl_pipeline:tabular",
    "papermill": {
     "duration": null,
     "end_time": null,
     "exception": null,
     "start_time": null,
     "status": "completed"
    },
    "tags": []
   },
   "source": [
    "#### Run the training pipeline\n",
    "\n",
    "Run the training job by invoking the `run` method with the following parameters:\n",
    "\n",
    "- `dataset`: The `Dataset` resource to train the model.\n",
    "- `model_display_name`: The human readable name for the trained model.\n",
    "- `training_fraction_split`: The percentage of the dataset to use for training.\n",
    "- `test_fraction_split`: The percentage of the dataset to use for test (holdout data).\n",
    "- `validation_fraction_split`: The percentage of the dataset to use for validation.\n",
    "- `target_column`: The name of the column to train as the label.\n",
    "- `budget_milli_node_hours`: (optional) Maximum training time specified in unit of millihours (1000 = hour).\n",
    "- `disable_early_stopping`: If `True`, training maybe completed before using the entire budget if the service believes it cannot further improve on the model objective measurements.\n",
    "\n",
    "The `run` method when completed returns the `Model` resource.\n",
    "\n",
    "The execution of the training pipeline will take upto 20 minutes."
   ]
  },
  {
   "cell_type": "code",
   "execution_count": null,
   "id": "5adddc3a",
   "metadata": {
    "execution": {
     "iopub.execute_input": "2022-06-14T20:33:07.160233Z",
     "iopub.status.busy": "2022-06-14T20:33:07.158097Z"
    },
    "id": "run_automl_pipeline:tabular",
    "papermill": {
     "duration": null,
     "end_time": null,
     "exception": null,
     "start_time": null,
     "status": "completed"
    },
    "tags": []
   },
   "outputs": [],
   "source": [
    "model = training_job.run(\n",
    "    dataset=dataset,\n",
    "    model_display_name=\"gsod_\" + TIMESTAMP,\n",
    "    training_fraction_split=0.6,\n",
    "    validation_fraction_split=0.2,\n",
    "    test_fraction_split=0.2,\n",
    "    budget_milli_node_hours=1000,\n",
    "    disable_early_stopping=False,\n",
    "    target_column=label_column,\n",
    ")"
   ]
  },
  {
   "cell_type": "markdown",
   "id": "ef9214bb",
   "metadata": {
    "id": "evaluate_the_model:mbsdk",
    "papermill": {
     "duration": null,
     "end_time": null,
     "exception": null,
     "start_time": null,
     "status": "completed"
    },
    "tags": []
   },
   "source": [
    "## Review model evaluation scores\n",
    "After your model has finished training, you can review its evaluation scores."
   ]
  },
  {
   "cell_type": "code",
   "execution_count": null,
   "id": "a35a8485",
   "metadata": {
    "id": "evaluate_the_model:mbsdk",
    "papermill": {
     "duration": null,
     "end_time": null,
     "exception": null,
     "start_time": null,
     "status": "completed"
    },
    "tags": []
   },
   "outputs": [],
   "source": [
    "# Get evaluations\n",
    "model_evaluations = model.list_model_evaluations()\n",
    "\n",
    "model_evaluation = list(model_evaluations)[0]\n",
    "print(model_evaluation)"
   ]
  },
  {
   "cell_type": "markdown",
   "id": "49dcd624",
   "metadata": {
    "id": "337625a4c33c",
    "papermill": {
     "duration": null,
     "end_time": null,
     "exception": null,
     "start_time": null,
     "status": "completed"
    },
    "tags": []
   },
   "source": [
    "## Send a batch prediction request\n",
    "\n",
    "Now you can make a batch prediction."
   ]
  },
  {
   "cell_type": "markdown",
   "id": "1c373e76",
   "metadata": {
    "id": "93bc53cc960d",
    "papermill": {
     "duration": null,
     "end_time": null,
     "exception": null,
     "start_time": null,
     "status": "completed"
    },
    "tags": []
   },
   "source": [
    "### Create a results dataset\n",
    "\n",
    "Create a dataset to store the prediction results."
   ]
  },
  {
   "cell_type": "code",
   "execution_count": null,
   "id": "4ce1e8bd",
   "metadata": {
    "id": "f49e90431fcd",
    "papermill": {
     "duration": null,
     "end_time": null,
     "exception": null,
     "start_time": null,
     "status": "completed"
    },
    "tags": []
   },
   "outputs": [],
   "source": [
    "# Create results dataset in default region\n",
    "RESULTS_DATASET_ID = f\"gsod_results_{TIMESTAMP}\"\n",
    "bq_dataset = bigquery.Dataset(f\"{PROJECT_ID}.{RESULTS_DATASET_ID}\")\n",
    "bq_dataset = bq_client.create_dataset(bq_dataset)\n",
    "print(f\"Created dataset {bq_client.project}.{bq_dataset.dataset_id}\")"
   ]
  },
  {
   "cell_type": "markdown",
   "id": "1d86fb75",
   "metadata": {
    "id": "36c070503d2f",
    "papermill": {
     "duration": null,
     "end_time": null,
     "exception": null,
     "start_time": null,
     "status": "completed"
    },
    "tags": []
   },
   "source": [
    "### Make the batch prediction request\n",
    "\n",
    "You can make a batch prediction by invoking the batch_predict() method, with the following parameters:\n",
    "\n",
    "- `job_display_name`: The human readable name for the batch prediction job.\n",
    "- `gcs_source`: A list of one or more batch request input files.\n",
    "- `gcs_destination_prefix`: The Cloud Storage location for storing the batch prediction resuls.\n",
    "- `instances_format`: The format for the input instances, either 'bigquery', 'csv' or 'jsonl'. Defaults to 'jsonl'.\n",
    "- `predictions_format`: The format for the output predictions, either 'csv' or 'jsonl'. Defaults to 'jsonl'.\n",
    "- `machine_type`: The type of machine to use for training.\n",
    "- `accelerator_type`: The hardware accelerator type.\n",
    "- `accelerator_count`: The number of accelerators to attach to a worker replica.\n",
    "- `sync`: If set to True, the call will block while waiting for the asynchronous batch job to complete."
   ]
  },
  {
   "cell_type": "code",
   "execution_count": null,
   "id": "67e1642a",
   "metadata": {
    "id": "bbd40d78ea46",
    "papermill": {
     "duration": null,
     "end_time": null,
     "exception": null,
     "start_time": null,
     "status": "completed"
    },
    "tags": []
   },
   "outputs": [],
   "source": [
    "# Note: The bigquery_source and bigquery_destination_prefix must be in the same region\n",
    "PREDICTION_RESULTS_DATASET_ID = f\"{PROJECT_ID}.{RESULTS_DATASET_ID}\"\n",
    "\n",
    "batch_predict_job = model.batch_predict(\n",
    "    job_display_name=\"tabular_regression_batch_predict_job\",\n",
    "    bigquery_source=f\"bq://{PREDICTION_INPUT_TABLE_ID}\",\n",
    "    instances_format=\"bigquery\",\n",
    "    predictions_format=\"bigquery\",\n",
    "    bigquery_destination_prefix=f\"bq://{PREDICTION_RESULTS_DATASET_ID}\",\n",
    ")"
   ]
  },
  {
   "cell_type": "markdown",
   "id": "adde4b34",
   "metadata": {
    "id": "4fc95aae00b0",
    "papermill": {
     "duration": null,
     "end_time": null,
     "exception": null,
     "start_time": null,
     "status": "completed"
    },
    "tags": []
   },
   "source": [
    "###  View the batch prediction results\n",
    "\n",
    "Use the BigQuery Python client to query the destination table and return results as a Pandas dataframe."
   ]
  },
  {
   "cell_type": "code",
   "execution_count": null,
   "id": "4acc3726",
   "metadata": {
    "id": "fafe1b0f654b",
    "papermill": {
     "duration": null,
     "end_time": null,
     "exception": null,
     "start_time": null,
     "status": "completed"
    },
    "tags": []
   },
   "outputs": [],
   "source": [
    "dataframe = (\n",
    "    bq_client.query(f\"SELECT * FROM `{PREDICTION_RESULTS_DATASET_ID}.*`\")\n",
    "    .result()\n",
    "    .to_dataframe()\n",
    ")\n",
    "\n",
    "print(dataframe.head())"
   ]
  },
  {
   "cell_type": "markdown",
   "id": "c2e27173",
   "metadata": {
    "id": "cleanup:mbsdk",
    "papermill": {
     "duration": null,
     "end_time": null,
     "exception": null,
     "start_time": null,
     "status": "completed"
    },
    "tags": []
   },
   "source": [
    "# Cleaning up\n",
    "\n",
    "To clean up all Google Cloud resources used in this project, you can [delete the Google Cloud\n",
    "project](https://cloud.google.com/resource-manager/docs/creating-managing-projects#shutting_down_projects) you used for the tutorial.\n",
    "\n",
    "Otherwise, you can delete the individual resources you created in this tutorial:\n",
    "\n",
    "- Model\n",
    "- AutoML Training Job\n",
    "- Batch Job\n",
    "- Cloud Storage Bucket"
   ]
  },
  {
   "cell_type": "code",
   "execution_count": null,
   "id": "adba6430",
   "metadata": {
    "id": "3be2c2bf9146",
    "papermill": {
     "duration": null,
     "end_time": null,
     "exception": null,
     "start_time": null,
     "status": "completed"
    },
    "tags": []
   },
   "outputs": [],
   "source": [
    "# Delete BigQuery datasets\n",
    "bq_client.delete_dataset(\n",
    "    f\"{PROJECT_ID}.{TRAINING_INPUT_DATASET_ID}\",\n",
    "    delete_contents=True,\n",
    "    not_found_ok=True,\n",
    ")\n",
    "\n",
    "bq_client.delete_dataset(\n",
    "    f\"{PROJECT_ID}.{PREDICTION_INPUT_DATASET_ID}\",\n",
    "    delete_contents=True,\n",
    "    not_found_ok=True,\n",
    ")\n",
    "\n",
    "bq_client.delete_dataset(\n",
    "    f\"{PROJECT_ID}.{RESULTS_DATASET_ID}\", delete_contents=True, not_found_ok=True\n",
    ")"
   ]
  },
  {
   "cell_type": "code",
   "execution_count": null,
   "id": "ec5cb939",
   "metadata": {
    "id": "cleanup:mbsdk",
    "papermill": {
     "duration": null,
     "end_time": null,
     "exception": null,
     "start_time": null,
     "status": "completed"
    },
    "tags": []
   },
   "outputs": [],
   "source": [
    "# Delete Vertex AI resources\n",
    "dataset.delete()\n",
    "model.delete()\n",
    "training_job.delete()\n",
    "batch_predict_job.delete()"
   ]
  }
 ],
 "metadata": {
  "colab": {
   "name": "sdk_automl_tabular_regression_batch_bq.ipynb",
   "toc_visible": true
  },
  "kernelspec": {
   "display_name": "Python 3",
   "name": "python3"
  },
  "papermill": {
   "default_parameters": {},
   "duration": 11.537096,
   "end_time": "2022-06-14T20:41:18.629851",
   "environment_variables": {},
   "exception": null,
   "input_path": "notebooks/official/automl/sdk_automl_time_series_forecasting_hierarchical.ipynb",
   "output_path": "notebooks/official/automl/sdk_automl_time_series_forecasting_hierarchical.ipynb",
   "parameters": {},
   "start_time": "2022-06-14T20:41:07.092755",
   "version": "2.3.4"
  }
 },
 "nbformat": 4,
 "nbformat_minor": 5
}